{
 "cells": [
  {
   "cell_type": "markdown",
   "metadata": {},
   "source": [
    "# Волны московской реновации"
   ]
  },
  {
   "cell_type": "markdown",
   "metadata": {},
   "source": [
    "![](wave_logo.png)"
   ]
  },
  {
   "cell_type": "markdown",
   "metadata": {},
   "source": [
    "Доброго времени суток дорогие читатели хабра, 12 августа 2020 года были опубликованы этапы переезда по программе реновации (ознакомиться можно [здесь](https://www.mos.ru/news/item/78307073/)) и мне стало интересно, а как это будет выглядеть, если эти этапы визуализировать. Тут нужно уточнить, что я никак ни связан с правительством Москвы, но являюсь счастливым обладателем квартиры в доме под реновацию, поэтому мне было интересно посмотреть, может даже с некоторой точностью предположить, куда возможно будет двигаться волна реновации в моём случае (а может быть и в вашем, если вас дорогой читатель это заинтересует). Конечно точного прогноза не получится, но хотя-бы можно будет увидеть картину под новым углом. Сразу нужно отметить, что у меня получилось не всё, что я хотел сделать, но если кому-то интересно почитать о том, как собирались данные и какие интересные моменты с этим были прошу под кат. Забегая вперёд, скажу, что пометить дома согласно волнам реновации получилось, однако не удалось отобразить на карте стартовые площадки, хотя их можно добавить вручную, ниже покажу как.\n",
    "<cut/>"
   ]
  },
  {
   "cell_type": "markdown",
   "metadata": {},
   "source": [
    "## 1. Введение"
   ]
  },
  {
   "cell_type": "markdown",
   "metadata": {},
   "source": [
    "<spoiler title=\"Вкратце о программе реновации\">\n",
    "\n",
    "Программа реновации была запущена Правительством Москвы в 2017 году. Благодаря ей 350 тысяч московских семей, то есть более миллиона человек, переедут в новые квартиры с отделкой комфорткласса.\n",
    "\n",
    "Какие дома войдут в программу, решали сами жители. По итогам голосования в программу было включено 5174 дома.\n",
    "\n",
    "Участники получат равнозначное жилье в своем районе... (далее можно прочитать [здесь](https://www.mos.ru/city/projects/renovation/))\n",
    "</spoiler>"
   ]
  },
  {
   "cell_type": "markdown",
   "metadata": {},
   "source": [
    "На основании приказа правительства Москвы от 12 августа 2020 г. № 45/182/ПР-335/20 (прочитать можно [здесь](https://www.mos.ru/dgp/documents/baza-dokumentov/view/242049220/)) вся программа переселения рассчитана до 2032 года и должна будет пройти в три этапа (три волны):\n",
    "- первый этап 2020 - 2024гг., в него вошло 930 домов, страницы 3-29 в приказе\n",
    "- второй этап 2025 - 2028гг., в него вошло 1636 домов, страницы 30-76 в приказе\n",
    "- третий этап 2029 - 2032гг., в него вошло 1809 домов, страницы 77-128 в приказе\n",
    "- без определённого этапа (этапы должны будут определиться до конца 1 квартала 2021г.) - 688 домов, страницы 129-148 в приказе"
   ]
  },
  {
   "cell_type": "markdown",
   "metadata": {},
   "source": [
    "## 2. Парсинг данных"
   ]
  },
  {
   "cell_type": "markdown",
   "metadata": {},
   "source": [
    "Данные я взял из [этого](https://www.mos.ru/dgp/documents/baza-dokumentov/view/242049220/) приказа, т.к. приказ - это pdf файл с таблицами, то я использовал библиотеку [tabula](https://pypi.org/project/tabula-py/) для парсинга pdf файлов."
   ]
  },
  {
   "cell_type": "code",
   "execution_count": 37,
   "metadata": {},
   "outputs": [],
   "source": [
    "import pandas as pd\n",
    "import numpy as np\n",
    "import requests\n",
    "from tabula import read_pdf\n",
    "import json\n",
    "import os"
   ]
  },
  {
   "cell_type": "markdown",
   "metadata": {},
   "source": [
    "Первым делом я спарсил одну страницу из этих таблиц, чтобы посмотреть, как дальше чистить данные."
   ]
  },
  {
   "cell_type": "code",
   "execution_count": 38,
   "metadata": {},
   "outputs": [],
   "source": [
    "test = read_pdf('prikaz_grafikpereseleniya.pdf', pages='3', pandas_options={'header':None})"
   ]
  },
  {
   "cell_type": "code",
   "execution_count": 39,
   "metadata": {},
   "outputs": [
    {
     "data": {
      "text/html": [
       "<div>\n",
       "<style scoped>\n",
       "    .dataframe tbody tr th:only-of-type {\n",
       "        vertical-align: middle;\n",
       "    }\n",
       "\n",
       "    .dataframe tbody tr th {\n",
       "        vertical-align: top;\n",
       "    }\n",
       "\n",
       "    .dataframe thead th {\n",
       "        text-align: right;\n",
       "    }\n",
       "</style>\n",
       "<table border=\"1\" class=\"dataframe\">\n",
       "  <thead>\n",
       "    <tr style=\"text-align: right;\">\n",
       "      <th></th>\n",
       "      <th>0</th>\n",
       "      <th>1</th>\n",
       "      <th>2</th>\n",
       "      <th>3</th>\n",
       "      <th>4</th>\n",
       "      <th>5</th>\n",
       "    </tr>\n",
       "  </thead>\n",
       "  <tbody>\n",
       "    <tr>\n",
       "      <th>0</th>\n",
       "      <td>No п/п</td>\n",
       "      <td>АО</td>\n",
       "      <td>Район</td>\n",
       "      <td>NaN</td>\n",
       "      <td>Адрес дома</td>\n",
       "      <td>unom</td>\n",
       "    </tr>\n",
       "    <tr>\n",
       "      <th>1</th>\n",
       "      <td>1</td>\n",
       "      <td>ЦАО</td>\n",
       "      <td>Басманный</td>\n",
       "      <td>Бакунинская ул., д.49 c.4</td>\n",
       "      <td>NaN</td>\n",
       "      <td>1316</td>\n",
       "    </tr>\n",
       "    <tr>\n",
       "      <th>2</th>\n",
       "      <td>2</td>\n",
       "      <td>ЦАО</td>\n",
       "      <td>Басманный</td>\n",
       "      <td>Бакунинская ул., д.77 c.3</td>\n",
       "      <td>NaN</td>\n",
       "      <td>1327</td>\n",
       "    </tr>\n",
       "    <tr>\n",
       "      <th>3</th>\n",
       "      <td>3</td>\n",
       "      <td>ЦАО</td>\n",
       "      <td>Басманный</td>\n",
       "      <td>Балакиревский пер., д.2/26</td>\n",
       "      <td>NaN</td>\n",
       "      <td>19328</td>\n",
       "    </tr>\n",
       "    <tr>\n",
       "      <th>4</th>\n",
       "      <td>4</td>\n",
       "      <td>ЦАО</td>\n",
       "      <td>Басманный</td>\n",
       "      <td>Госпитальный Вал ул., д.3</td>\n",
       "      <td>NaN</td>\n",
       "      <td>31354</td>\n",
       "    </tr>\n",
       "  </tbody>\n",
       "</table>\n",
       "</div>"
      ],
      "text/plain": [
       "        0    1          2                           3           4      5\n",
       "0  No п/п   АО      Район                         NaN  Адрес дома   unom\n",
       "1       1  ЦАО  Басманный   Бакунинская ул., д.49 c.4         NaN   1316\n",
       "2       2  ЦАО  Басманный   Бакунинская ул., д.77 c.3         NaN   1327\n",
       "3       3  ЦАО  Басманный  Балакиревский пер., д.2/26         NaN  19328\n",
       "4       4  ЦАО  Басманный   Госпитальный Вал ул., д.3         NaN  31354"
      ]
     },
     "execution_count": 39,
     "metadata": {},
     "output_type": "execute_result"
    }
   ],
   "source": [
    "test.head()"
   ]
  },
  {
   "cell_type": "markdown",
   "metadata": {},
   "source": [
    "Как видно из того, что получилось спарсить, чтобы очистить данные необходимо удалить лишние колонки и строчки, что и делает функция `parse_pdf_table`."
   ]
  },
  {
   "cell_type": "code",
   "execution_count": 40,
   "metadata": {},
   "outputs": [],
   "source": [
    "def parse_pdf_table(pages, pdf_file='prikaz_grafikpereseleniya.pdf'):\n",
    "    df = read_pdf(pdf_file, pages=pages, pandas_options={'header':None})\n",
    "    \n",
    "    # удаляем не нужные строки\n",
    "    df = df[~(df.iloc[:,0] == 'No п/п')]\n",
    "    \n",
    "    # оставляем только нужные колонки\n",
    "    df = df.iloc[:,1:4]\n",
    "    df.columns = ['AO', 'district', 'address']\n",
    "    \n",
    "    return df"
   ]
  },
  {
   "cell_type": "markdown",
   "metadata": {},
   "source": [
    "Каждая волна находится в своём диапазоне страниц, парсим их и проверяем по документу, т.е. количество строк должно совпадать с тем, что есть в pdf файле. (Также сразу добавляем к данным номер волны, т.к. это пригодится в будущем) "
   ]
  },
  {
   "cell_type": "code",
   "execution_count": 41,
   "metadata": {},
   "outputs": [],
   "source": [
    "wave_1 = parse_pdf_table('3-29') # 2020 - 2024\n",
    "wave_1['wave'] = 1"
   ]
  },
  {
   "cell_type": "code",
   "execution_count": 42,
   "metadata": {},
   "outputs": [
    {
     "data": {
      "text/plain": [
       "(930, 4)"
      ]
     },
     "execution_count": 42,
     "metadata": {},
     "output_type": "execute_result"
    }
   ],
   "source": [
    "wave_1.shape"
   ]
  },
  {
   "cell_type": "code",
   "execution_count": 43,
   "metadata": {},
   "outputs": [],
   "source": [
    "wave_2 = parse_pdf_table('30-76') # 2025 - 2028\n",
    "wave_2['wave'] = 2"
   ]
  },
  {
   "cell_type": "code",
   "execution_count": 44,
   "metadata": {},
   "outputs": [
    {
     "data": {
      "text/plain": [
       "(1636, 4)"
      ]
     },
     "execution_count": 44,
     "metadata": {},
     "output_type": "execute_result"
    }
   ],
   "source": [
    "wave_2.shape"
   ]
  },
  {
   "cell_type": "code",
   "execution_count": 45,
   "metadata": {},
   "outputs": [],
   "source": [
    "wave_3 = parse_pdf_table('77-128') # 2029 - 2032\n",
    "wave_3['wave'] = 3"
   ]
  },
  {
   "cell_type": "code",
   "execution_count": 46,
   "metadata": {},
   "outputs": [
    {
     "data": {
      "text/plain": [
       "(1809, 4)"
      ]
     },
     "execution_count": 46,
     "metadata": {},
     "output_type": "execute_result"
    }
   ],
   "source": [
    "wave_3.shape"
   ]
  },
  {
   "cell_type": "code",
   "execution_count": 47,
   "metadata": {},
   "outputs": [],
   "source": [
    "unknown = parse_pdf_table('129-148')\n",
    "unknown['wave'] = 0"
   ]
  },
  {
   "cell_type": "code",
   "execution_count": 48,
   "metadata": {},
   "outputs": [
    {
     "data": {
      "text/plain": [
       "(688, 4)"
      ]
     },
     "execution_count": 48,
     "metadata": {},
     "output_type": "execute_result"
    }
   ],
   "source": [
    "unknown.shape"
   ]
  },
  {
   "cell_type": "markdown",
   "metadata": {},
   "source": [
    "## 3. Обработка данных"
   ]
  },
  {
   "cell_type": "markdown",
   "metadata": {},
   "source": [
    "Обрабатывать данные будем на пандасе ([pandas](https://pandas.pydata.org/)), для этого соберём все волны в один датафрейм `df`."
   ]
  },
  {
   "cell_type": "code",
   "execution_count": 49,
   "metadata": {},
   "outputs": [],
   "source": [
    "df = pd.concat([wave_1, wave_2, wave_3, unknown], ignore_index=True)"
   ]
  },
  {
   "cell_type": "markdown",
   "metadata": {},
   "source": [
    "Выделим своим цветом метки каждой волны."
   ]
  },
  {
   "cell_type": "code",
   "execution_count": 50,
   "metadata": {},
   "outputs": [],
   "source": [
    "df['marker-color'] = df['wave'].map({1:'#0ACF00',  # зеленый\n",
    "                                     2:'#1142AA',  # синий\n",
    "                                     3:'#FFFD00',  # жёлтый\n",
    "                                     0:'#FD0006'}) # красный"
   ]
  },
  {
   "cell_type": "markdown",
   "metadata": {},
   "source": [
    "Также подпишем каждую метку в зависимости от волны."
   ]
  },
  {
   "cell_type": "code",
   "execution_count": 51,
   "metadata": {},
   "outputs": [],
   "source": [
    "df['iconContent'] = df['wave'].map({1:'1',\n",
    "                                    2:'2',\n",
    "                                    3:'3',\n",
    "                                    0:''})"
   ]
  },
  {
   "cell_type": "markdown",
   "metadata": {},
   "source": [
    "В описание метки добавим адрес."
   ]
  },
  {
   "cell_type": "code",
   "execution_count": 52,
   "metadata": {},
   "outputs": [],
   "source": [
    "df['description'] = df['address']"
   ]
  },
  {
   "cell_type": "markdown",
   "metadata": {},
   "source": [
    "Если не уточнить город - Москва, то по данным, полученным из геокодера получится, что реновация началась по всей стране, да что там, во всём мире. (Даёшь реновацию во всём мире! :)"
   ]
  },
  {
   "cell_type": "markdown",
   "metadata": {},
   "source": [
    "![](Screenshot.png)"
   ]
  },
  {
   "cell_type": "code",
   "execution_count": 53,
   "metadata": {},
   "outputs": [],
   "source": [
    "def add_city(x):\n",
    "    if x['AO'] == 'ЗелАО':\n",
    "        return 'Зеленоград, ' + x['address']\n",
    "    \n",
    "    return 'Москва, ' + x['address']"
   ]
  },
  {
   "cell_type": "code",
   "execution_count": 54,
   "metadata": {},
   "outputs": [],
   "source": [
    "df['address'] = df[['AO', 'address']].apply(add_city, axis=1)"
   ]
  },
  {
   "cell_type": "markdown",
   "metadata": {},
   "source": [
    "Для определения координат каждого дома по адресу я использовал [геокодер](https://tech.yandex.ru/maps/geocoder/) яндекса, что очень удобно, т.к. он бесплатный и на него есть очень хорошая документация. Если нужно будет пересчитать координаты, то не забудьте ввести свой [ключ](https://yandex.ru/blog/mapsapi/novye-pravila-dostupa-k-api-kart)."
   ]
  },
  {
   "cell_type": "code",
   "execution_count": 55,
   "metadata": {},
   "outputs": [],
   "source": [
    "def geocoder(addr, key='введи свой ключ'):   \n",
    "    url = 'https://geocode-maps.yandex.ru/1.x'\n",
    "    params = {'format':'json', 'apikey': key, 'geocode': addr}\n",
    "    response = requests.get(url, params=params)\n",
    "    \n",
    "    try:\n",
    "        coordinates = response.json()[\"response\"][\"GeoObjectCollection\"][\"featureMember\"][0][\"GeoObject\"][\"Point\"][\"pos\"]\n",
    "        lon, lat = coordinates.split(' ')\n",
    "    except:\n",
    "        lon, lat = 0, 0\n",
    "    \n",
    "    return lon, lat"
   ]
  },
  {
   "cell_type": "code",
   "execution_count": 56,
   "metadata": {},
   "outputs": [
    {
     "name": "stdout",
     "output_type": "stream",
     "text": [
      "CPU times: user 2min, sys: 4.11 s, total: 2min 4s\n",
      "Wall time: 15min 43s\n"
     ]
    }
   ],
   "source": [
    "%%time\n",
    "df['longitude'], df['latitude'] = zip(*df['address'].apply(geocoder))"
   ]
  },
  {
   "cell_type": "markdown",
   "metadata": {},
   "source": [
    "Все координаты определились удачно (именно удачно, т.к. нет гарантий, что геокодер спарсил адрес так как нам нужно), другими словами он хотя-бы что-то вернул."
   ]
  },
  {
   "cell_type": "code",
   "execution_count": 57,
   "metadata": {},
   "outputs": [
    {
     "data": {
      "text/plain": [
       "0"
      ]
     },
     "execution_count": 57,
     "metadata": {},
     "output_type": "execute_result"
    }
   ],
   "source": [
    "len(df[df['longitude'] == 0])"
   ]
  },
  {
   "cell_type": "markdown",
   "metadata": {},
   "source": [
    "Сохраним полученные данные."
   ]
  },
  {
   "cell_type": "code",
   "execution_count": 58,
   "metadata": {},
   "outputs": [],
   "source": [
    "df.to_csv('waves.csv')"
   ]
  },
  {
   "cell_type": "code",
   "execution_count": 2,
   "metadata": {},
   "outputs": [],
   "source": [
    "#df = pd.read_csv('waves.csv')"
   ]
  },
  {
   "cell_type": "markdown",
   "metadata": {},
   "source": [
    "## 4. Формирование карты волн реновации"
   ]
  },
  {
   "cell_type": "markdown",
   "metadata": {},
   "source": [
    "Для отображения полученных данных на карте я использовал формат [GeoJSON](https://yandex.ru/support/maps-builder/concept/markers_3.html#markers_3__GeoJSON)."
   ]
  },
  {
   "cell_type": "code",
   "execution_count": 59,
   "metadata": {},
   "outputs": [],
   "source": [
    "def df_to_geojson(df, properties, lat='latitude', lon='longitude'):\n",
    "    geojson = {'type':'FeatureCollection', 'features':[]}\n",
    "    for _, row in df.iterrows():\n",
    "        feature = {'type':'Feature',\n",
    "                   'properties':{},\n",
    "                   'geometry':{'type':'Point',\n",
    "                               'coordinates':[]}}\n",
    "        feature['geometry']['coordinates'] = [row[lon],row[lat]]\n",
    "        for prop in properties:\n",
    "            feature['properties'][prop] = row[prop]\n",
    "        geojson['features'].append(feature)\n",
    "    return geojson"
   ]
  },
  {
   "cell_type": "markdown",
   "metadata": {},
   "source": [
    "Т.к. меток получилось очень много, то полная карта может медленно работать на слабом ПК, поэтому я разделил данные по округам Москвы для удобства."
   ]
  },
  {
   "cell_type": "code",
   "execution_count": 60,
   "metadata": {},
   "outputs": [],
   "source": [
    "properties = ['marker-color', 'iconContent', 'description']\n",
    "\n",
    "if not os.path.exists('data'):\n",
    "    os.makedirs('data')\n",
    "\n",
    "for ao, data in df.groupby('AO'):\n",
    "    geojson = df_to_geojson(data, properties)\n",
    "    \n",
    "    with open('data/' + ao + '.geojson', 'w') as f:\n",
    "        json.dump(geojson, f, indent=2) "
   ]
  },
  {
   "cell_type": "markdown",
   "metadata": {},
   "source": [
    "Полученные данные в формате `.geojson` я сохранил в папку `data`. В файле `ВСЕ_ОКРУГА.geojson` записаны данные по всем округам вместе."
   ]
  },
  {
   "cell_type": "code",
   "execution_count": 61,
   "metadata": {},
   "outputs": [],
   "source": [
    "geojson = df_to_geojson(df, properties)\n",
    "\n",
    "with open('data/ВСЕ_ОКРУГА.geojson', 'w') as f:\n",
    "    json.dump(geojson, f, indent=2) "
   ]
  },
  {
   "cell_type": "markdown",
   "metadata": {},
   "source": [
    "![](Screenshot_2.png)"
   ]
  },
  {
   "cell_type": "markdown",
   "metadata": {},
   "source": [
    "ссылка на полную карту (может работать медленно) [здесь](https://yandex.ru/maps/?um=constructor%3Ab5b3736671cee4957550cef2a404906c86520c8c29266fe24e0cb5f1baef7c5b&source=constructorLink)."
   ]
  },
  {
   "cell_type": "markdown",
   "metadata": {},
   "source": [
    "![](marks.png)"
   ]
  },
  {
   "cell_type": "markdown",
   "metadata": {},
   "source": [
    "В целом получилось не плохо, все метки внутри границ Москвы, однако, есть и несколько ошибок, как например недалеко от Сергиева Посада - Пролетарий СНТ территория (п.Вороновское), д.1 или в окрестностях Орехово-Зуево - Гаражный пер. (пос.ДСК Мичуринец,п.Внуковское), д.8/КБ/Н. (Честно говоря я бы и сам не сразу понял, где это находится)"
   ]
  },
  {
   "cell_type": "markdown",
   "metadata": {},
   "source": [
    "## 5. Что хотелось сделать, но не получилось :("
   ]
  },
  {
   "cell_type": "markdown",
   "metadata": {},
   "source": [
    "Официальный список стартовых площадок находится [здесь](https://www.mos.ru/spisokploschadok.pdf)."
   ]
  },
  {
   "cell_type": "markdown",
   "metadata": {},
   "source": [
    "Также на карту волн реновации я хотел добавить стартовые площадки, однако это не получилось сделать. Проблема даже не в том, что нормально спарсить список не удалось, это можно было бы решить, проблема в том, что геокодер не может точно определить координаты по владению, например, Шмитовский проезд, вл. 39, Мукомольный проезд, вл. 6, или где находится этот адрес - район Южное Медведково, мкр. 1, 2, 3, корп. 38."
   ]
  },
  {
   "cell_type": "markdown",
   "metadata": {},
   "source": [
    "Таким образом единственный источник данных это официальная карта реновации (находится [здесь](https://www.mos.ru/city/projects/renovation/)), а как получить из неё координаты я не знаю, если кто знает, как получить координаты стартовых площадок, напишите пожалуйста в комментах."
   ]
  },
  {
   "cell_type": "markdown",
   "metadata": {},
   "source": [
    "Однако не всё так плохо и выход всё же есть - можно добавить эти метки вручную!"
   ]
  },
  {
   "cell_type": "markdown",
   "metadata": {},
   "source": [
    "![](Screenshot_3.jpg)"
   ]
  },
  {
   "cell_type": "markdown",
   "metadata": {},
   "source": [
    "Видео-инструкция о том, как это сделать есть в исходном коде проекта, а также её можно посмотреть/скачать [здесь](https://yadi.sk/i/K9dZ989nA_5E1A)."
   ]
  },
  {
   "cell_type": "markdown",
   "metadata": {},
   "source": [
    "## Выводы"
   ]
  },
  {
   "cell_type": "markdown",
   "metadata": {},
   "source": [
    "В целом можно сказать, что затея удалась, однако ещё раз повторю, выводы, которые вы можете получить исходя из этих данных носят лишь примерный характер, даже в самом приказе написано, что сроки указанные в нём являются ориентировочными и могут быть скорректированы, к тому же значительное число домов пока ещё даже не распределено. "
   ]
  },
  {
   "cell_type": "markdown",
   "metadata": {},
   "source": [
    "Исходный код залит на github и скачать его можно [здесь](https://github.com/cdies/wave_renovation)."
   ]
  },
  {
   "cell_type": "markdown",
   "metadata": {},
   "source": [
    "Спасибо за внимание."
   ]
  }
 ],
 "metadata": {
  "kernelspec": {
   "display_name": "Python 3",
   "language": "python",
   "name": "python3"
  },
  "language_info": {
   "codemirror_mode": {
    "name": "ipython",
    "version": 3
   },
   "file_extension": ".py",
   "mimetype": "text/x-python",
   "name": "python",
   "nbconvert_exporter": "python",
   "pygments_lexer": "ipython3",
   "version": "3.7.3"
  }
 },
 "nbformat": 4,
 "nbformat_minor": 4
}
