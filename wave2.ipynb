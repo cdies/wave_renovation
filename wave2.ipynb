{
 "cells": [
  {
   "cell_type": "markdown",
   "metadata": {},
   "source": [
    "# Волны московской реновации 2.0"
   ]
  },
  {
   "cell_type": "code",
   "execution_count": 1,
   "metadata": {},
   "outputs": [],
   "source": [
    "import pandas as pd\n",
    "import numpy as np\n",
    "import json\n",
    "from tabula import read_pdf\n",
    "from tqdm.notebook import tqdm\n",
    "import os"
   ]
  },
  {
   "cell_type": "markdown",
   "metadata": {},
   "source": [
    "Адреса и локации домов по реновации"
   ]
  },
  {
   "cell_type": "code",
   "execution_count": 2,
   "metadata": {},
   "outputs": [],
   "source": [
    "with open('renovation_address.txt') as f:\n",
    "    bounded_addresses = json.load(f)"
   ]
  },
  {
   "cell_type": "code",
   "execution_count": 3,
   "metadata": {},
   "outputs": [],
   "source": [
    "def parse_pdf_table(pages, pdf_file='prikaz_grafikpereseleniya.pdf'):\n",
    "    df = read_pdf(pdf_file, pages=pages, pandas_options={'header':None})\n",
    "    \n",
    "    # удаляем не нужные строки\n",
    "    df = df[~(df.iloc[:,0] == 'No п/п')]\n",
    "    \n",
    "    df['unom'] = df.iloc[:,-1].combine_first(df.iloc[:,-2])\n",
    "    \n",
    "    # оставляем только нужные колонки\n",
    "    df = df.iloc[:,[1, 2, 3, -1]]\n",
    "    df.columns = ['AO', 'district', 'description', 'unom']\n",
    "    \n",
    "    return df"
   ]
  },
  {
   "cell_type": "code",
   "execution_count": 4,
   "metadata": {},
   "outputs": [],
   "source": [
    "wave_1 = parse_pdf_table('3-29') # 2020 - 2024\n",
    "wave_1['wave'] = 1\n",
    "\n",
    "wave_2 = parse_pdf_table('30-76') # 2025 - 2028\n",
    "wave_2['wave'] = 2\n",
    "\n",
    "wave_3 = parse_pdf_table('77-128') # 2029 - 2032\n",
    "wave_3['wave'] = 3\n",
    "\n",
    "unknown = parse_pdf_table('129-148')\n",
    "unknown['wave'] = 0"
   ]
  },
  {
   "cell_type": "code",
   "execution_count": 5,
   "metadata": {},
   "outputs": [],
   "source": [
    "df = pd.concat([wave_1, wave_2, wave_3, unknown], ignore_index=True)"
   ]
  },
  {
   "cell_type": "code",
   "execution_count": 6,
   "metadata": {},
   "outputs": [],
   "source": [
    "df['marker-color'] = df['wave'].map({1:'#0ACF00',  # зеленый\n",
    "                                     2:'#1142AA',  # синий\n",
    "                                     3:'#FFFD00',  # жёлтый\n",
    "                                     0:'#FD0006'}) # красный\n",
    "\n",
    "df['iconContent'] = df['wave'].map({1:'1',\n",
    "                                    2:'2',\n",
    "                                    3:'3',\n",
    "                                    0:''})"
   ]
  },
  {
   "cell_type": "code",
   "execution_count": 7,
   "metadata": {},
   "outputs": [],
   "source": [
    "df['longitude'] = 0\n",
    "df['latitude'] = 0"
   ]
  },
  {
   "cell_type": "code",
   "execution_count": 8,
   "metadata": {},
   "outputs": [
    {
     "data": {
      "application/vnd.jupyter.widget-view+json": {
       "model_id": "ee7d231e4ab14a9e8f0e8bd36a920ca5",
       "version_major": 2,
       "version_minor": 0
      },
      "text/plain": [
       "HBox(children=(FloatProgress(value=0.0, max=5152.0), HTML(value='')))"
      ]
     },
     "metadata": {},
     "output_type": "display_data"
    },
    {
     "name": "stdout",
     "output_type": "stream",
     "text": [
      "\n"
     ]
    }
   ],
   "source": [
    "for i in tqdm(bounded_addresses):\n",
    "    unom = i['unom']\n",
    "    coordinates = i['center']['coordinates']\n",
    "    \n",
    "    df.loc[df['unom']==unom, 'longitude'] = coordinates[1]\n",
    "    df.loc[df['unom']==unom, 'latitude'] = coordinates[0]"
   ]
  },
  {
   "cell_type": "code",
   "execution_count": 9,
   "metadata": {},
   "outputs": [],
   "source": [
    "# Объеденим ТАО и НАО в ТиНАО, т.к. в стартовых площадках есть только ТиНАО\n",
    "df.loc[(df['AO'] == 'ТАО') | (df['AO'] == 'НАО'), 'AO'] = 'ТиНАО'"
   ]
  },
  {
   "cell_type": "code",
   "execution_count": 10,
   "metadata": {},
   "outputs": [
    {
     "data": {
      "text/html": [
       "<div>\n",
       "<style scoped>\n",
       "    .dataframe tbody tr th:only-of-type {\n",
       "        vertical-align: middle;\n",
       "    }\n",
       "\n",
       "    .dataframe tbody tr th {\n",
       "        vertical-align: top;\n",
       "    }\n",
       "\n",
       "    .dataframe thead th {\n",
       "        text-align: right;\n",
       "    }\n",
       "</style>\n",
       "<table border=\"1\" class=\"dataframe\">\n",
       "  <thead>\n",
       "    <tr style=\"text-align: right;\">\n",
       "      <th></th>\n",
       "      <th>AO</th>\n",
       "      <th>district</th>\n",
       "      <th>description</th>\n",
       "      <th>unom</th>\n",
       "      <th>wave</th>\n",
       "      <th>marker-color</th>\n",
       "      <th>iconContent</th>\n",
       "      <th>longitude</th>\n",
       "      <th>latitude</th>\n",
       "    </tr>\n",
       "  </thead>\n",
       "  <tbody>\n",
       "    <tr>\n",
       "      <th>917</th>\n",
       "      <td>ТиНАО</td>\n",
       "      <td>поселение Михайлово-Ярцевское</td>\n",
       "      <td>Армейский пос. (п.Михайлово-Ярцевское), д.11</td>\n",
       "      <td>15000016</td>\n",
       "      <td>1</td>\n",
       "      <td>#0ACF00</td>\n",
       "      <td>1</td>\n",
       "      <td>0.0</td>\n",
       "      <td>0.0</td>\n",
       "    </tr>\n",
       "    <tr>\n",
       "      <th>918</th>\n",
       "      <td>ТиНАО</td>\n",
       "      <td>поселение Михайлово-Ярцевское</td>\n",
       "      <td>Армейский пос. (п.Михайлово-Ярцевское), д.13</td>\n",
       "      <td>15000015</td>\n",
       "      <td>1</td>\n",
       "      <td>#0ACF00</td>\n",
       "      <td>1</td>\n",
       "      <td>0.0</td>\n",
       "      <td>0.0</td>\n",
       "    </tr>\n",
       "    <tr>\n",
       "      <th>919</th>\n",
       "      <td>ТиНАО</td>\n",
       "      <td>поселение Михайлово-Ярцевское</td>\n",
       "      <td>Армейский пос. (п.Михайлово-Ярцевское), д.3</td>\n",
       "      <td>15000013</td>\n",
       "      <td>1</td>\n",
       "      <td>#0ACF00</td>\n",
       "      <td>1</td>\n",
       "      <td>0.0</td>\n",
       "      <td>0.0</td>\n",
       "    </tr>\n",
       "    <tr>\n",
       "      <th>925</th>\n",
       "      <td>ТиНАО</td>\n",
       "      <td>поселение Михайлово-Ярцевское</td>\n",
       "      <td>Армейский пос. (п.Михайлово-Ярцевское), д.4</td>\n",
       "      <td>15000012</td>\n",
       "      <td>1</td>\n",
       "      <td>#0ACF00</td>\n",
       "      <td>1</td>\n",
       "      <td>0.0</td>\n",
       "      <td>0.0</td>\n",
       "    </tr>\n",
       "    <tr>\n",
       "      <th>926</th>\n",
       "      <td>ТиНАО</td>\n",
       "      <td>поселение Михайлово-Ярцевское</td>\n",
       "      <td>Армейский пос. (п.Михайлово-Ярцевское), д.6</td>\n",
       "      <td>15000014</td>\n",
       "      <td>1</td>\n",
       "      <td>#0ACF00</td>\n",
       "      <td>1</td>\n",
       "      <td>0.0</td>\n",
       "      <td>0.0</td>\n",
       "    </tr>\n",
       "    <tr>\n",
       "      <th>4883</th>\n",
       "      <td>ТиНАО</td>\n",
       "      <td>поселение Внуковское</td>\n",
       "      <td>Гаражный пер. (пос.ДСК Мичуринец,п.Внуковское)...</td>\n",
       "      <td>4405823</td>\n",
       "      <td>0</td>\n",
       "      <td>#FD0006</td>\n",
       "      <td></td>\n",
       "      <td>0.0</td>\n",
       "      <td>0.0</td>\n",
       "    </tr>\n",
       "    <tr>\n",
       "      <th>4945</th>\n",
       "      <td>ТиНАО</td>\n",
       "      <td>поселение Мосрентген</td>\n",
       "      <td>Теплый Стан ул. (п.Мосрентген, в/г), д.51</td>\n",
       "      <td>20000002</td>\n",
       "      <td>0</td>\n",
       "      <td>#FD0006</td>\n",
       "      <td></td>\n",
       "      <td>0.0</td>\n",
       "      <td>0.0</td>\n",
       "    </tr>\n",
       "    <tr>\n",
       "      <th>4946</th>\n",
       "      <td>ТиНАО</td>\n",
       "      <td>поселение Мосрентген</td>\n",
       "      <td>Теплый Стан ул. (п.Мосрентген, в/г), д.52</td>\n",
       "      <td>20000003</td>\n",
       "      <td>0</td>\n",
       "      <td>#FD0006</td>\n",
       "      <td></td>\n",
       "      <td>0.0</td>\n",
       "      <td>0.0</td>\n",
       "    </tr>\n",
       "    <tr>\n",
       "      <th>4947</th>\n",
       "      <td>ТиНАО</td>\n",
       "      <td>поселение Мосрентген</td>\n",
       "      <td>Теплый Стан ул. (п.Мосрентген, в/г), д.53</td>\n",
       "      <td>20000001</td>\n",
       "      <td>0</td>\n",
       "      <td>#FD0006</td>\n",
       "      <td></td>\n",
       "      <td>0.0</td>\n",
       "      <td>0.0</td>\n",
       "    </tr>\n",
       "    <tr>\n",
       "      <th>4948</th>\n",
       "      <td>ТиНАО</td>\n",
       "      <td>поселение Мосрентген</td>\n",
       "      <td>Теплый Стан ул. (п.Мосрентген, в/г), д.85</td>\n",
       "      <td>20000000</td>\n",
       "      <td>0</td>\n",
       "      <td>#FD0006</td>\n",
       "      <td></td>\n",
       "      <td>0.0</td>\n",
       "      <td>0.0</td>\n",
       "    </tr>\n",
       "    <tr>\n",
       "      <th>4995</th>\n",
       "      <td>ТиНАО</td>\n",
       "      <td>поселение Вороновское</td>\n",
       "      <td>Пролетарий СНТ территория (п.Вороновское), д.1</td>\n",
       "      <td>20000004</td>\n",
       "      <td>0</td>\n",
       "      <td>#FD0006</td>\n",
       "      <td></td>\n",
       "      <td>0.0</td>\n",
       "      <td>0.0</td>\n",
       "    </tr>\n",
       "  </tbody>\n",
       "</table>\n",
       "</div>"
      ],
      "text/plain": [
       "         AO                       district  \\\n",
       "917   ТиНАО  поселение Михайлово-Ярцевское   \n",
       "918   ТиНАО  поселение Михайлово-Ярцевское   \n",
       "919   ТиНАО  поселение Михайлово-Ярцевское   \n",
       "925   ТиНАО  поселение Михайлово-Ярцевское   \n",
       "926   ТиНАО  поселение Михайлово-Ярцевское   \n",
       "4883  ТиНАО           поселение Внуковское   \n",
       "4945  ТиНАО           поселение Мосрентген   \n",
       "4946  ТиНАО           поселение Мосрентген   \n",
       "4947  ТиНАО           поселение Мосрентген   \n",
       "4948  ТиНАО           поселение Мосрентген   \n",
       "4995  ТиНАО          поселение Вороновское   \n",
       "\n",
       "                                            description      unom  wave  \\\n",
       "917        Армейский пос. (п.Михайлово-Ярцевское), д.11  15000016     1   \n",
       "918        Армейский пос. (п.Михайлово-Ярцевское), д.13  15000015     1   \n",
       "919         Армейский пос. (п.Михайлово-Ярцевское), д.3  15000013     1   \n",
       "925         Армейский пос. (п.Михайлово-Ярцевское), д.4  15000012     1   \n",
       "926         Армейский пос. (п.Михайлово-Ярцевское), д.6  15000014     1   \n",
       "4883  Гаражный пер. (пос.ДСК Мичуринец,п.Внуковское)...   4405823     0   \n",
       "4945          Теплый Стан ул. (п.Мосрентген, в/г), д.51  20000002     0   \n",
       "4946          Теплый Стан ул. (п.Мосрентген, в/г), д.52  20000003     0   \n",
       "4947          Теплый Стан ул. (п.Мосрентген, в/г), д.53  20000001     0   \n",
       "4948          Теплый Стан ул. (п.Мосрентген, в/г), д.85  20000000     0   \n",
       "4995     Пролетарий СНТ территория (п.Вороновское), д.1  20000004     0   \n",
       "\n",
       "     marker-color iconContent  longitude  latitude  \n",
       "917       #0ACF00           1        0.0       0.0  \n",
       "918       #0ACF00           1        0.0       0.0  \n",
       "919       #0ACF00           1        0.0       0.0  \n",
       "925       #0ACF00           1        0.0       0.0  \n",
       "926       #0ACF00           1        0.0       0.0  \n",
       "4883      #FD0006                    0.0       0.0  \n",
       "4945      #FD0006                    0.0       0.0  \n",
       "4946      #FD0006                    0.0       0.0  \n",
       "4947      #FD0006                    0.0       0.0  \n",
       "4948      #FD0006                    0.0       0.0  \n",
       "4995      #FD0006                    0.0       0.0  "
      ]
     },
     "execution_count": 10,
     "metadata": {},
     "output_type": "execute_result"
    }
   ],
   "source": [
    "df[df['longitude'] == 0]"
   ]
  },
  {
   "cell_type": "markdown",
   "metadata": {},
   "source": [
    "Добавляем вручную дома, которые не удалось спарсить"
   ]
  },
  {
   "cell_type": "code",
   "execution_count": 11,
   "metadata": {},
   "outputs": [],
   "source": [
    "df.loc[917, ['longitude', 'latitude']] = 37.204805, 55.385382 \n",
    "df.loc[918, ['longitude', 'latitude']] = 37.205255, 55.385367 \n",
    "df.loc[919, ['longitude', 'latitude']] = 37.201518, 55.385265 \n",
    "df.loc[925, ['longitude', 'latitude']] = 37.201545, 55.384927 \n",
    "df.loc[926, ['longitude', 'latitude']] = 37.204151, 55.384576\n",
    "df.loc[4883, ['longitude', 'latitude']] = 37.321218, 55.661308 \n",
    "df.loc[4945, ['longitude', 'latitude']] = 37.476896, 55.604153 \n",
    "df.loc[4946, ['longitude', 'latitude']] = 37.477406, 55.603895 \n",
    "df.loc[4947, ['longitude', 'latitude']] = 37.476546, 55.602729 \n",
    "df.loc[4948, ['longitude', 'latitude']] = 37.477568, 55.604659\n",
    "df.loc[4995, ['longitude', 'latitude']] = 37.176806, 55.341541"
   ]
  },
  {
   "cell_type": "markdown",
   "metadata": {},
   "source": [
    "Стартовые площадки"
   ]
  },
  {
   "cell_type": "code",
   "execution_count": 12,
   "metadata": {},
   "outputs": [],
   "source": [
    "with open('start_area.txt') as f:\n",
    "    end = json.load(f)"
   ]
  },
  {
   "cell_type": "code",
   "execution_count": 13,
   "metadata": {},
   "outputs": [],
   "source": [
    "data = {\n",
    "    'AO':[],\n",
    "    'district':[],\n",
    "    'longitude':[],\n",
    "    'latitude':[],\n",
    "    'description':[]\n",
    "}\n",
    "\n",
    "for i in end['response']:\n",
    "    \n",
    "    data['AO'].append(i['OKRUG'])\n",
    "    \n",
    "    data['district'] = i['AREA']\n",
    "    \n",
    "    coordinates = i['geoData']['coordinates']\n",
    "    \n",
    "    data['longitude'].append(coordinates[1])\n",
    "    data['latitude'].append(coordinates[0])\n",
    "    \n",
    "    description = i['Address']\n",
    "    \n",
    "    if 'StartOfRelocation' in i:\n",
    "        if i['StartOfRelocation'] is not None:\n",
    "            description += '\\n' + i['StartOfRelocation']\n",
    "        \n",
    "    data['description'].append(description)\n",
    "    \n",
    "df_start_area = pd.DataFrame(data)\n",
    "df_start_area['marker-color'] = '#7D3E00' # коричневый цвет\n",
    "df_start_area['iconContent'] = '0'\n",
    "df_start_area['unom'] = None\n",
    "df_start_area['wave'] = -1"
   ]
  },
  {
   "cell_type": "markdown",
   "metadata": {},
   "source": [
    "Объеденяем метки домов по реновации и стартовых площадок"
   ]
  },
  {
   "cell_type": "code",
   "execution_count": 14,
   "metadata": {},
   "outputs": [],
   "source": [
    "df = pd.concat([df, df_start_area], ignore_index=True)"
   ]
  },
  {
   "cell_type": "markdown",
   "metadata": {},
   "source": [
    "Формирование карты реновации"
   ]
  },
  {
   "cell_type": "code",
   "execution_count": 15,
   "metadata": {},
   "outputs": [],
   "source": [
    "def df_to_geojson(df, properties, lat='latitude', lon='longitude'):\n",
    "    geojson = {'type':'FeatureCollection', 'features':[]}\n",
    "    for _, row in df.iterrows():\n",
    "        feature = {'type':'Feature',\n",
    "                   'properties':{},\n",
    "                   'geometry':{'type':'Point',\n",
    "                               'coordinates':[]}}\n",
    "        feature['geometry']['coordinates'] = [row[lon],row[lat]]\n",
    "        for prop in properties:\n",
    "            feature['properties'][prop] = row[prop]\n",
    "        geojson['features'].append(feature)\n",
    "    return geojson"
   ]
  },
  {
   "cell_type": "code",
   "execution_count": 16,
   "metadata": {},
   "outputs": [],
   "source": [
    "properties = ['marker-color', 'iconContent', 'description']"
   ]
  },
  {
   "cell_type": "markdown",
   "metadata": {},
   "source": [
    "Разделяем данные по округам."
   ]
  },
  {
   "cell_type": "code",
   "execution_count": 17,
   "metadata": {},
   "outputs": [],
   "source": [
    "if not os.path.exists('data'):\n",
    "    os.makedirs('data')\n",
    "\n",
    "for ao, data in df.groupby('AO'):\n",
    "    geojson = df_to_geojson(data, properties)\n",
    "    \n",
    "    with open('data/' + ao + '.geojson', 'w') as f:\n",
    "        json.dump(geojson, f, indent=2) "
   ]
  },
  {
   "cell_type": "markdown",
   "metadata": {},
   "source": [
    "Полная карта (может работать медленно)"
   ]
  },
  {
   "cell_type": "code",
   "execution_count": 18,
   "metadata": {},
   "outputs": [],
   "source": [
    "geojson = df_to_geojson(df, properties)\n",
    "\n",
    "with open('data/ВСЕ_ОКРУГА.geojson', 'w') as f:\n",
    "    json.dump(geojson, f, indent=2) "
   ]
  },
  {
   "cell_type": "code",
   "execution_count": null,
   "metadata": {},
   "outputs": [],
   "source": []
  },
  {
   "cell_type": "code",
   "execution_count": null,
   "metadata": {},
   "outputs": [],
   "source": []
  },
  {
   "cell_type": "code",
   "execution_count": null,
   "metadata": {},
   "outputs": [],
   "source": []
  },
  {
   "cell_type": "code",
   "execution_count": null,
   "metadata": {},
   "outputs": [],
   "source": []
  }
 ],
 "metadata": {
  "kernelspec": {
   "display_name": "Python 3",
   "language": "python",
   "name": "python3"
  },
  "language_info": {
   "codemirror_mode": {
    "name": "ipython",
    "version": 3
   },
   "file_extension": ".py",
   "mimetype": "text/x-python",
   "name": "python",
   "nbconvert_exporter": "python",
   "pygments_lexer": "ipython3",
   "version": "3.7.3"
  }
 },
 "nbformat": 4,
 "nbformat_minor": 4
}
